{
 "cells": [
  {
   "cell_type": "markdown",
   "id": "f4e86100-3da7-42fe-8ca8-2ea674ce94db",
   "metadata": {},
   "source": [
    "# Feature toggle management inside the codebase"
   ]
  },
  {
   "cell_type": "markdown",
   "id": "8d292b2d-f7c6-4138-9521-418b7e9a92aa",
   "metadata": {},
   "source": [
    "The following example is based on [this](https://martinfowler.com/articles/feature-toggles.html) article."
   ]
  },
  {
   "cell_type": "markdown",
   "id": "ee940966-7957-48da-8cba-2413138427ad",
   "metadata": {},
   "source": [
    "## Context"
   ]
  },
  {
   "cell_type": "markdown",
   "id": "a0ceb558-25d3-4c16-a70d-f2b2d1b4883f",
   "metadata": {},
   "source": [
    "Let's suppose we are creating a module that will store sales orders in the database. We will have the following domain objetcs:"
   ]
  },
  {
   "cell_type": "code",
   "execution_count": 1,
   "id": "1b97957d-a276-44a0-9cc3-12eb58c98fec",
   "metadata": {},
   "outputs": [],
   "source": [
    "import typing"
   ]
  },
  {
   "cell_type": "code",
   "execution_count": 2,
   "id": "a6964d97-658b-4523-af61-93fa9514f040",
   "metadata": {},
   "outputs": [],
   "source": [
    "class Product(typing.NamedTuple):\n",
    "    id: int\n",
    "    price: float"
   ]
  },
  {
   "cell_type": "code",
   "execution_count": 3,
   "id": "6210e375-72e2-4373-bdf2-8cc7c6544cc8",
   "metadata": {},
   "outputs": [],
   "source": [
    "class SalesOrderItem(typing.NamedTuple):\n",
    "    id: int\n",
    "    product_id: int\n",
    "    quantity: int"
   ]
  },
  {
   "cell_type": "code",
   "execution_count": 4,
   "id": "594bb2dd-5c38-4c74-95b0-73e960b2c577",
   "metadata": {},
   "outputs": [],
   "source": [
    "class SalesOrder(typing.NamedTuple):\n",
    "    id: int\n",
    "    client_id: int\n",
    "    items: typing.List[SalesOrderItem]"
   ]
  },
  {
   "cell_type": "markdown",
   "id": "c4e96ea3-0a18-49d4-9952-71d94e153a9a",
   "metadata": {},
   "source": [
    "Now, in:order to save these object in the DB we have implemented the following repositories:"
   ]
  },
  {
   "cell_type": "code",
   "execution_count": 5,
   "id": "b1497cc2-6bd7-4787-99a1-449444612331",
   "metadata": {},
   "outputs": [],
   "source": [
    "class SalesOrderRepository:\n",
    "    def save(self, order: SalesOrder):\n",
    "        print('Storing the sales order: ', order.id)"
   ]
  },
  {
   "cell_type": "code",
   "execution_count": 6,
   "id": "22a28dfa-72fc-4efc-98e3-6ad0100e9934",
   "metadata": {},
   "outputs": [],
   "source": [
    "class SalesOrderItemRepository:\n",
    "    def save_many(self, items: typing.List[SalesOrderItem]):\n",
    "        print('Storing multiple sales order items: ', [item.id for item in items])"
   ]
  },
  {
   "cell_type": "markdown",
   "id": "c95d26d6-1d91-490a-89b7-faca4978bc7d",
   "metadata": {},
   "source": [
    "When it is time to save a sales order we call the following function"
   ]
  },
  {
   "cell_type": "code",
   "execution_count": 7,
   "id": "c7915647-7c9c-4dee-9ca7-0b5c3dd705d1",
   "metadata": {},
   "outputs": [],
   "source": [
    "def create_sales_order(order: SalesOrder):\n",
    "    order_repository = SalesOrderRepository()\n",
    "    items_repository = SalesOrderItemRepository()\n",
    "    \n",
    "    order_repository.save(order)\n",
    "    items_repository.save_many(order.items)"
   ]
  },
  {
   "cell_type": "code",
   "execution_count": 8,
   "id": "0fd4682a-5d88-4340-b1bb-3c88c56130c5",
   "metadata": {},
   "outputs": [
    {
     "name": "stdout",
     "output_type": "stream",
     "text": [
      "Storing the sales order:  1\n",
      "Storing multiple sales order items:  [1, 2]\n"
     ]
    }
   ],
   "source": [
    "order = SalesOrder(\n",
    "    id=1,\n",
    "    client_id=1,\n",
    "    items=[\n",
    "        SalesOrderItem(id=1, product_id=1, quantity=10),\n",
    "        SalesOrderItem(id=2, product_id=15, quantity=25),\n",
    "    ]\n",
    ")\n",
    "\n",
    "create_sales_order(order)"
   ]
  },
  {
   "cell_type": "markdown",
   "id": "2a47dca9-1af4-46d9-82ba-459eb397a619",
   "metadata": {},
   "source": [
    "So far so good. Now a new business requirement comes in. We need to send a creation email after the sales order creation. We decide to introduce a feature toggle, the create_sales_order function will now be like this:"
   ]
  },
  {
   "cell_type": "code",
   "execution_count": 9,
   "id": "f602035e-bedc-42cc-8b05-d0e6cb51b489",
   "metadata": {},
   "outputs": [],
   "source": [
    "def get_feature_toggles():\n",
    "    return {\n",
    "        'new_awsome_feature': True,\n",
    "    }\n",
    "\n",
    "\n",
    "def send_email(order: SalesOrder):\n",
    "    print('sending email to client', order)"
   ]
  },
  {
   "cell_type": "code",
   "execution_count": 10,
   "id": "046384a0-f10e-4c0f-bc3a-9338a1a1921a",
   "metadata": {},
   "outputs": [],
   "source": [
    "def create_sales_order(order: SalesOrder):\n",
    "    order_repository = SalesOrderRepository()\n",
    "    items_repository = SalesOrderItemRepository()\n",
    "    \n",
    "    order_repository.save(order)\n",
    "    items_repository.save_many(order.items)\n",
    "    \n",
    "    if get_feature_toggles()['new_awsome_feature']:\n",
    "        send_email(order)"
   ]
  },
  {
   "cell_type": "code",
   "execution_count": 11,
   "id": "497a3ade-f516-4763-805f-345fa1bae587",
   "metadata": {},
   "outputs": [
    {
     "name": "stdout",
     "output_type": "stream",
     "text": [
      "Storing the sales order:  1\n",
      "Storing multiple sales order items:  [1, 2]\n",
      "sending email to client SalesOrder(id=1, client_id=1, items=[SalesOrderItem(id=1, product_id=1, quantity=10), SalesOrderItem(id=2, product_id=15, quantity=25)])\n"
     ]
    }
   ],
   "source": [
    "order = SalesOrder(\n",
    "    id=1,\n",
    "    client_id=1,\n",
    "    items=[\n",
    "        SalesOrderItem(id=1, product_id=1, quantity=10),\n",
    "        SalesOrderItem(id=2, product_id=15, quantity=25),\n",
    "    ]\n",
    ")\n",
    "\n",
    "create_sales_order(order)"
   ]
  },
  {
   "cell_type": "markdown",
   "id": "104ba683-3411-462d-ba7f-f77ec7991047",
   "metadata": {},
   "source": [
    "That's ok but, why does the create_sales_order need to know about the **new_awsome** feature? We can change that by using an abstraction layer"
   ]
  },
  {
   "cell_type": "code",
   "execution_count": 12,
   "id": "42b8e569-7bcd-4673-93a8-f2397e9a99d1",
   "metadata": {},
   "outputs": [],
   "source": [
    "class FeatureDecisions:\n",
    "    def __init__(self):\n",
    "        _toggles = get_feature_toggles()\n",
    "        self.sales_order_creations_should_send_email = _toggles['new_awsome_feature']\n",
    "\n",
    "def get_feature_decisions():\n",
    "    return FeatureDecisions()"
   ]
  },
  {
   "cell_type": "code",
   "execution_count": 13,
   "id": "3f7ee9b8-c4ae-49bb-9488-1936844311cd",
   "metadata": {},
   "outputs": [],
   "source": [
    "def create_sales_order(order: SalesOrder):\n",
    "    order_repository = SalesOrderRepository()\n",
    "    items_repository = SalesOrderItemRepository()\n",
    "    \n",
    "    order_repository.save(order)\n",
    "    items_repository.save_many(order.items)\n",
    "    \n",
    "    feature_decisions = get_feature_decisions()\n",
    "    \n",
    "    if feature_decisions.sales_order_creations_should_send_email:\n",
    "        send_email(order)"
   ]
  },
  {
   "cell_type": "code",
   "execution_count": 14,
   "id": "03b8bf67-b86e-426e-8435-6cf737105c2c",
   "metadata": {},
   "outputs": [
    {
     "name": "stdout",
     "output_type": "stream",
     "text": [
      "Storing the sales order:  1\n",
      "Storing multiple sales order items:  [1, 2]\n",
      "sending email to client SalesOrder(id=1, client_id=1, items=[SalesOrderItem(id=1, product_id=1, quantity=10), SalesOrderItem(id=2, product_id=15, quantity=25)])\n"
     ]
    }
   ],
   "source": [
    "order = SalesOrder(\n",
    "    id=1,\n",
    "    client_id=1,\n",
    "    items=[\n",
    "        SalesOrderItem(id=1, product_id=1, quantity=10),\n",
    "        SalesOrderItem(id=2, product_id=15, quantity=25),\n",
    "    ]\n",
    ")\n",
    "\n",
    "create_sales_order(order)"
   ]
  },
  {
   "cell_type": "markdown",
   "id": "06d430b9-6a65-46c7-8951-cf03948ccc08",
   "metadata": {},
   "source": [
    "Now the **create_sales_order** function is agnostic of the **new_awsome_feature**, that is fine, but we can do better. We will pass the **feature_decisions** to invert the dependency of this object so testing is easier."
   ]
  },
  {
   "cell_type": "code",
   "execution_count": 15,
   "id": "988a747f-4a48-4949-8189-a5d18ba9cfed",
   "metadata": {},
   "outputs": [],
   "source": [
    "def create_sales_order(order: SalesOrder, feature_decisions: FeatureDecisions):\n",
    "    order_repository = SalesOrderRepository()\n",
    "    items_repository = SalesOrderItemRepository()\n",
    "    \n",
    "    order_repository.save(order)\n",
    "    items_repository.save_many(order.items)\n",
    "    \n",
    "    if feature_decisions.sales_order_creations_should_send_email:\n",
    "        send_email(order)"
   ]
  },
  {
   "cell_type": "code",
   "execution_count": 16,
   "id": "84729b22-1fab-49e0-8e12-ff9930b84aba",
   "metadata": {},
   "outputs": [
    {
     "name": "stdout",
     "output_type": "stream",
     "text": [
      "Storing the sales order:  1\n",
      "Storing multiple sales order items:  [1, 2]\n",
      "sending email to client SalesOrder(id=1, client_id=1, items=[SalesOrderItem(id=1, product_id=1, quantity=10), SalesOrderItem(id=2, product_id=15, quantity=25)])\n"
     ]
    }
   ],
   "source": [
    "order = SalesOrder(\n",
    "    id=1,\n",
    "    client_id=1,\n",
    "    items=[\n",
    "        SalesOrderItem(id=1, product_id=1, quantity=10),\n",
    "        SalesOrderItem(id=2, product_id=15, quantity=25),\n",
    "    ]\n",
    ")\n",
    "\n",
    "\n",
    "create_sales_order(order, get_feature_decisions())"
   ]
  },
  {
   "cell_type": "markdown",
   "id": "d120981b-10c6-4997-aed0-19cad08253ab",
   "metadata": {},
   "source": [
    "Cool! But there is one problem. If we need to change the codebase in multiple places we would end up having multiple if statements. To fix this problem we can use the factory an strategy patterns"
   ]
  },
  {
   "cell_type": "code",
   "execution_count": 17,
   "id": "8fb89cb7-d2cc-4cc2-b3f3-78f0431441ce",
   "metadata": {},
   "outputs": [],
   "source": [
    "def _current_create_sales_order(order: SalesOrder):\n",
    "    order_repository = SalesOrderRepository()\n",
    "    items_repository = SalesOrderItemRepository()\n",
    "    \n",
    "    order_repository.save(order)\n",
    "    items_repository.save_many(order.items)\n",
    "\n",
    "\n",
    "def _create_sales_order_and_send_email(order: SalesOrder):\n",
    "    _current_create_sales_order(order)\n",
    "    send_email(order)\n",
    "\n",
    "        \n",
    "def get_sales_order_creator():\n",
    "    feature_decisions = get_feature_decisions()\n",
    "    \n",
    "    if feature_decisions.sales_order_creations_should_send_email:\n",
    "        return _create_sales_order_and_send_email\n",
    "    \n",
    "    return _current_create_sales_order"
   ]
  },
  {
   "cell_type": "code",
   "execution_count": 18,
   "id": "09242c0c-59e1-416d-9b95-569c010c4146",
   "metadata": {},
   "outputs": [
    {
     "name": "stdout",
     "output_type": "stream",
     "text": [
      "Storing the sales order:  1\n",
      "Storing multiple sales order items:  [1, 2]\n",
      "sending email to client SalesOrder(id=1, client_id=1, items=[SalesOrderItem(id=1, product_id=1, quantity=10), SalesOrderItem(id=2, product_id=15, quantity=25)])\n"
     ]
    }
   ],
   "source": [
    "order = SalesOrder(\n",
    "    id=1,\n",
    "    client_id=1,\n",
    "    items=[\n",
    "        SalesOrderItem(id=1, product_id=1, quantity=10),\n",
    "        SalesOrderItem(id=2, product_id=15, quantity=25),\n",
    "    ]\n",
    ")\n",
    "\n",
    "create_sales_order = get_sales_order_creator()\n",
    "create_sales_order(order)"
   ]
  },
  {
   "cell_type": "markdown",
   "id": "08d3b637-7761-42d3-8c7f-41736acc4a25",
   "metadata": {},
   "source": [
    "That is much better, now all the if statements are encapsulated in one single function: **get_sales_order_creator**"
   ]
  },
  {
   "cell_type": "markdown",
   "id": "ecfc7abf-45f8-4c77-89ab-606f7632a5a7",
   "metadata": {},
   "source": [
    "Once the **awesome_feature** implementation is done we can remove the feature toggles, we can remove the **get_sales_order_creator** function and call directly the new function"
   ]
  },
  {
   "cell_type": "code",
   "execution_count": 19,
   "id": "5b760fde-0925-410a-8302-16eae9807d38",
   "metadata": {},
   "outputs": [],
   "source": [
    "def create_sales_order(order: SalesOrder):\n",
    "    order_repository = SalesOrderRepository()\n",
    "    items_repository = SalesOrderItemRepository()\n",
    "    \n",
    "    order_repository.save(order)\n",
    "    items_repository.save_many(order.items)\n",
    "\n",
    "    send_email(order)"
   ]
  },
  {
   "cell_type": "code",
   "execution_count": 20,
   "id": "38c2884c-a60f-4df3-91de-177506ce5754",
   "metadata": {},
   "outputs": [
    {
     "name": "stdout",
     "output_type": "stream",
     "text": [
      "Storing the sales order:  1\n",
      "Storing multiple sales order items:  [1, 2]\n",
      "sending email to client SalesOrder(id=1, client_id=1, items=[SalesOrderItem(id=1, product_id=1, quantity=10), SalesOrderItem(id=2, product_id=15, quantity=25)])\n"
     ]
    }
   ],
   "source": [
    "create_sales_order(order)"
   ]
  }
 ],
 "metadata": {
  "kernelspec": {
   "display_name": "Python 3",
   "language": "python",
   "name": "python3"
  },
  "language_info": {
   "codemirror_mode": {
    "name": "ipython",
    "version": 3
   },
   "file_extension": ".py",
   "mimetype": "text/x-python",
   "name": "python",
   "nbconvert_exporter": "python",
   "pygments_lexer": "ipython3",
   "version": "3.8.6"
  }
 },
 "nbformat": 4,
 "nbformat_minor": 5
}
